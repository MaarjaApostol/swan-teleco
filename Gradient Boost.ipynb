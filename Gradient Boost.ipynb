{
 "cells": [
  {
   "cell_type": "markdown",
   "id": "845e33f9-3735-4812-bcb2-dd31fd60b9b7",
   "metadata": {},
   "source": [
    "<p style=\"text-align:center;\">\n",
    "<img src=https://noodle.digitalfutures.com/studentuploads/Data_Cygnets_logo.png width = 150px, height=150px/\n",
    "     style=\"float: center; \" />\n",
    "</p>"
   ]
  },
  {
   "cell_type": "markdown",
   "id": "8ddbc2cd-5dee-47eb-b512-604ebe84533f",
   "metadata": {
    "id": "9c0db19c-e10e-4100-b1b6-00009cb22a54"
   },
   "source": [
    "# Gradient Boosting 🌲🚀 on Swan Teleco\n",
    "Trying Gradient boosting algorithms.Results were worse than a logistic regression model.\n",
    "### by Data Cygnets\n",
    "🦢 Jamie M\n",
    "\n",
    "🦢 Muqadas\n",
    "\n",
    "🦢 Sennan\n",
    "\n",
    "🦢 Maarja"
   ]
  },
  {
   "cell_type": "markdown",
   "id": "3721b230-991e-43db-814b-80a9b7741b9e",
   "metadata": {
    "jp-MarkdownHeadingCollapsed": true
   },
   "source": [
    "## 1. Python Essentials 📁\n",
    "\n",
    "**Note, some packages are outside of the typical python library**"
   ]
  },
  {
   "cell_type": "code",
   "execution_count": null,
   "id": "66527984-ab09-4a71-9d7a-8bd066f23a54",
   "metadata": {
    "colab": {
     "base_uri": "https://localhost:8080/"
    },
    "id": "66527984-ab09-4a71-9d7a-8bd066f23a54",
    "outputId": "559dcb93-bd9b-4847-fcdb-2ab6af3685bc"
   },
   "outputs": [],
   "source": [
    "#Basic Python packages\n",
    "from time import time\n",
    "import warnings\n",
    "warnings.filterwarnings('ignore')\n",
    "\n",
    "\n",
    "#Numerical information\n",
    "import numpy as np\n",
    "\n",
    "#General Data use\n",
    "import pandas as pd\n",
    "from collections import Counter\n",
    "\n",
    "#Data Visualisation\n",
    "import seaborn as sns\n",
    "import matplotlib.pyplot as plt\n",
    "\n",
    "##Predictive Modelling##\n",
    "#Metrics\n",
    "from sklearn import metrics\n",
    "from sklearn.metrics import (confusion_matrix, accuracy_score)\n",
    "\n",
    "#Model\n",
    "from sklearn.pipeline import Pipeline\n",
    "from sklearn.tree import DecisionTreeClassifier\n",
    "from sklearn.ensemble import RandomForestClassifier,GradientBoostingClassifier\n",
    "\n",
    "#HyperParameters\n",
    "from sklearn.model_selection import GridSearchCV, StratifiedKFold, train_test_split\n",
    "\n",
    "#Modelling Visuals\n",
    "from sklearn import tree\n",
    "\n",
    "\n",
    "#######External packages########\n",
    "#Smarter Decision Tree Visualisation\n",
    "#Please run this if the package is not currently installed in the environment:\n",
    "#!pip install supertree -U\n",
    "from supertree import SuperTree\n",
    "\n",
    "#Class balancing with SMOTE(Synthetic Minority Over-sampling Technique-https://machinelearningmastery.com/smote-oversampling-for-imbalanced-classification/)\n",
    "#Please run this if the package is not currently installed in the environment:\n",
    "#!pip install imbalanced-learn -U\n",
    "import imblearn\n",
    "from imblearn.pipeline import Pipeline as imbpipeline\n",
    "from imblearn.over_sampling import SMOTE\n",
    "#https://medium.com/data-science/the-right-way-of-using-smote-with-cross-validation-92a8d09d00c7#:~:text=We%20first%20split%20the%20data,cross%2Dvalidation%20and%20test%20scores."
   ]
  },
  {
   "cell_type": "code",
   "execution_count": null,
   "id": "c5e2845b-1836-4906-8939-e87365b74b57",
   "metadata": {
    "id": "c5e2845b-1836-4906-8939-e87365b74b57"
   },
   "outputs": [],
   "source": [
    "df = pd.read_excel('1 - Project Data.xlsx')"
   ]
  },
  {
   "cell_type": "markdown",
   "id": "65d2b39c-1583-44bf-9c6e-bf6cb52d0500",
   "metadata": {
    "jp-MarkdownHeadingCollapsed": true
   },
   "source": [
    "## 2. Data Cleaning and Splitting 📊"
   ]
  },
  {
   "cell_type": "markdown",
   "id": "ec35f0a4-97a9-4f96-a36b-fcc0be583d09",
   "metadata": {},
   "source": [
    "### Outlier removal"
   ]
  },
  {
   "cell_type": "code",
   "execution_count": null,
   "id": "d0e97296-a527-42e1-afdb-02fb590fe2b6",
   "metadata": {},
   "outputs": [],
   "source": [
    "df_tenured = df[df['Tenure Months']!=0]"
   ]
  },
  {
   "cell_type": "markdown",
   "id": "c72e3bf0-0883-470a-9861-ab198233759f",
   "metadata": {},
   "source": [
    "### Data Splitting"
   ]
  },
  {
   "cell_type": "code",
   "execution_count": null,
   "id": "50052881-d0f5-4eb4-87bc-a5923c1a2ec2",
   "metadata": {
    "id": "50052881-d0f5-4eb4-87bc-a5923c1a2ec2"
   },
   "outputs": [],
   "source": [
    "train, test = train_test_split(df_tenured, random_state = 60, stratify = df_tenured['Churn Label'], test_size = 0.2)"
   ]
  },
  {
   "cell_type": "markdown",
   "id": "1362c692-5295-4d99-b434-8960bca8bca9",
   "metadata": {
    "jp-MarkdownHeadingCollapsed": true
   },
   "source": [
    "## 3. Feature Engineering🛠️"
   ]
  },
  {
   "cell_type": "code",
   "execution_count": null,
   "id": "c843d68a-7ad9-446f-b3c3-bc8bbf99c40c",
   "metadata": {
    "id": "c843d68a-7ad9-446f-b3c3-bc8bbf99c40c"
   },
   "outputs": [],
   "source": [
    "Y_N_cols = ['Dependents', 'Phone Service', 'Multiple Lines', 'Internet Service',\n",
    "       'Online Security', 'Online Backup', 'Device Protection', 'Tech Support',\n",
    "       'Streaming TV', 'Streaming Movies', 'Paperless Billing']\n",
    "categorical_cols = ['City','Contract','Payment Method']\n",
    "def str_to_int_boolean(x):\n",
    "    if x=='Yes':\n",
    "        return 1\n",
    "    else:\n",
    "        return 0\n",
    "def service_count(row):\n",
    "    return (~row.str.contains('No')).sum()\n",
    "\n",
    "\n",
    "def feature_eng(df):\n",
    "    #Removal of Columns\n",
    "    features = list(df.columns)\n",
    "    #Dropping unnecessary columns#\n",
    "    features.remove('CustomerID')\n",
    "    features.remove('Count')\n",
    "    features.remove('Country')\n",
    "    features.remove('State')\n",
    "    features.remove('Lat Long')\n",
    "    features.remove('Latitude')\n",
    "    features.remove('Longitude')\n",
    "    features.remove('Churn Reason')\n",
    "    features.remove('Gender')\n",
    "    features.remove('Partner')\n",
    "    features.remove('Senior Citizen')\n",
    "    #Duplication\n",
    "    features.remove('Churn Value')\n",
    "\n",
    "    df_copy = df[features].copy()\n",
    "    df_copy.index = df.CustomerID\n",
    "    ##Cleaning of Data##\n",
    "    df_copy.replace('No internet service', 'No', inplace=True)\n",
    "    df_copy.replace('No phone service', 'No', inplace=True)\n",
    "    df_copy['Total Charges'] = df_copy['Total Charges'].replace(' ', 0)\n",
    "    df_copy['Total Charges'] = df_copy['Total Charges'].astype(float)\n",
    "\n",
    "\n",
    "    cols = ['Phone Service','Multiple Lines', 'Internet Service', 'Online Security',\n",
    "       'Online Backup', 'Device Protection', 'Tech Support', 'Streaming TV',\n",
    "       'Streaming Movies']\n",
    "\n",
    "    #Counting the number of services\n",
    "    df_copy['service_count'] = df_copy[cols].apply(service_count, axis=1)\n",
    "\n",
    "    ##Changing from str to integer booleans##\n",
    "    for i in Y_N_cols:\n",
    "        df_copy[i] = df_copy[i].apply(str_to_int_boolean)\n",
    "\n",
    "    #df_copy['Gender'] = [1 if val == 'Male' else 0 for val in df_copy['Gender']]\n",
    "\n",
    "    ##Changing categorical into numerical\n",
    "\n",
    "    for i in categorical_cols:\n",
    "        df_copy[i] = pd.factorize(df_copy[i])[0]\n",
    "\n",
    "    ##Space for further feature Engineering##\n",
    "\n",
    "\n",
    "\n",
    "\n",
    "    y = df_copy['Churn Label'].copy()\n",
    "    X = df_copy.drop(columns = ['Churn Label']).copy()\n",
    "\n",
    "\n",
    "    return X,y"
   ]
  },
  {
   "cell_type": "code",
   "execution_count": null,
   "id": "0593bf1b-43e2-4e67-b81f-55cbfc54ed6b",
   "metadata": {
    "id": "0593bf1b-43e2-4e67-b81f-55cbfc54ed6b"
   },
   "outputs": [],
   "source": [
    "X_train_fe, y_train_fe = feature_eng(train)"
   ]
  },
  {
   "cell_type": "code",
   "execution_count": null,
   "id": "3fdae538-53e1-47fc-bcfe-f72a8a325940",
   "metadata": {
    "colab": {
     "base_uri": "https://localhost:8080/",
     "height": 267
    },
    "id": "3fdae538-53e1-47fc-bcfe-f72a8a325940",
    "outputId": "c585cefb-d15a-4679-fbf9-59e292602ee0"
   },
   "outputs": [],
   "source": [
    "X_train_fe.head()"
   ]
  },
  {
   "cell_type": "markdown",
   "id": "c5a0c319-b51a-4c61-a581-fd938d08f2cb",
   "metadata": {
    "id": "c5a0c319-b51a-4c61-a581-fd938d08f2cb"
   },
   "source": [
    "## 4. Model Building and Training🏗️"
   ]
  },
  {
   "cell_type": "markdown",
   "id": "e125a2b2-df76-437f-960c-094b1737ec12",
   "metadata": {},
   "source": [
    "**SMOTE has improved the recall of the model by ~16%, sacrifising the accuracy by 1-2%**\n",
    "\n",
    "**Hyperparameter selections**\n",
    "- Model Criterion: How the model learns\n",
    "- Model minimum same split: The size of nodes after all splits\n",
    "- Model minimum leaf size: The size of the leaves (final results)\n",
    "- Model maximum depth: The number of edges in the trees"
   ]
  },
  {
   "cell_type": "code",
   "execution_count": null,
   "id": "455182f1-cfa8-41f7-be16-6e3137eadc15",
   "metadata": {
    "id": "455182f1-cfa8-41f7-be16-6e3137eadc15"
   },
   "outputs": [],
   "source": [
    "pipeline = imbpipeline(steps = [['smote', SMOTE(random_state=60)],\n",
    "                                        ['classifier', GradientBoostingClassifier(random_state=60,\n",
    "                                                                          max_depth=4)]])\n",
    "\n",
    "\n",
    "stratified_kfold = StratifiedKFold(n_splits=5,\n",
    "                                       shuffle=True,\n",
    "                                       random_state=60)\n",
    "\n",
    "\n",
    "param_grid = {'classifier__criterion':['squared_error', 'friedman_mse'],\n",
    "             'classifier__min_samples_split':[20,25,30],\n",
    "             'classifier__min_samples_leaf':[5,10,20],\n",
    "             'classifier__max_depth':[2,3,4,5]}\n",
    "grid_search = GridSearchCV(estimator=pipeline,\n",
    "                            param_grid=param_grid,\n",
    "                            scoring='accuracy',\n",
    "                            cv=stratified_kfold,\n",
    "                            n_jobs=-1)\n",
    "\n",
    "\n",
    "grid_search.fit(X_train_fe, y_train_fe)\n",
    "cv_score = grid_search.best_score_\n"
   ]
  },
  {
   "cell_type": "code",
   "execution_count": null,
   "id": "854cf420-6770-4c33-b8bc-3a4628114ef7",
   "metadata": {
    "id": "854cf420-6770-4c33-b8bc-3a4628114ef7",
    "outputId": "2b5427e5-0577-425c-eef7-dd89ad66e493"
   },
   "outputs": [],
   "source": [
    "dt = grid_search.best_estimator_\n",
    "dt.fit(X_train_fe, y_train_fe)"
   ]
  },
  {
   "cell_type": "markdown",
   "id": "851dd3ec-4195-4294-9094-81b9b0e2ade9",
   "metadata": {},
   "source": [
    "## 5. Model Prediction using the best hyperparameters 🔮"
   ]
  },
  {
   "cell_type": "code",
   "execution_count": null,
   "id": "e72ea9e4-1494-4a51-8949-f921e08b148f",
   "metadata": {},
   "outputs": [],
   "source": [
    "X_test_fe, y_test_fe = feature_eng(test)"
   ]
  },
  {
   "cell_type": "code",
   "execution_count": null,
   "id": "1790befd-d64b-4fb1-98d3-5946167c3050",
   "metadata": {},
   "outputs": [],
   "source": [
    "print(f'Score on training set: {dt.score(X_train_fe, y_train_fe)}')\n",
    "print(f'Score on testing set: {dt.score(X_test_fe, y_test_fe)}')"
   ]
  },
  {
   "cell_type": "code",
   "execution_count": null,
   "id": "a4d3dcbb-d29a-4ea3-bfed-063bd185301f",
   "metadata": {},
   "outputs": [],
   "source": [
    "train_results = X_train_fe.copy()\n",
    "train_results['y_pred'] = dt.predict(X_train_fe)\n",
    "train_results['y_real'] = y_train_fe\n",
    "train_results['y_prob'] = dt.predict_proba(X_train_fe)[:,1]"
   ]
  },
  {
   "cell_type": "code",
   "execution_count": null,
   "id": "88793f0f-a698-4ed4-960e-258028868a5d",
   "metadata": {},
   "outputs": [],
   "source": [
    "test_results = X_test_fe.copy()\n",
    "test_results['y_pred'] = dt.predict(X_test_fe)\n",
    "test_results['y_real'] = y_test_fe\n",
    "test_results['y_prob'] = dt.predict_proba(X_test_fe)[:,1]"
   ]
  },
  {
   "cell_type": "markdown",
   "id": "236c5752-5e48-46ee-adc2-48b0d1d25e5a",
   "metadata": {},
   "source": [
    "### Results on the Training Set\n",
    "\n",
    "- Accuracy-86%\n",
    "- Recall on desired class (Yes)-0.82"
   ]
  },
  {
   "cell_type": "code",
   "execution_count": null,
   "id": "8ecab621-d195-4277-8da2-08130c6043e6",
   "metadata": {},
   "outputs": [],
   "source": [
    "print(metrics.confusion_matrix(train_results['y_real'], train_results['y_pred']))\n",
    "print(metrics.classification_report(train_results['y_real'], train_results['y_pred']))"
   ]
  },
  {
   "cell_type": "markdown",
   "id": "c5e9eeb2-083e-4244-b885-39c24dd90878",
   "metadata": {},
   "source": [
    "### Results on the Testing Set\n",
    "\n",
    "- Accuracy-79%\n",
    "- Recall on desired class (Yes)-0.65\n",
    "\n",
    "With this being low, it is often disregarding the churners. This is the avenue we want to maximise."
   ]
  },
  {
   "cell_type": "code",
   "execution_count": null,
   "id": "fd7f77bb-189b-4449-b44b-45b1d897873e",
   "metadata": {},
   "outputs": [],
   "source": [
    "print(metrics.confusion_matrix(test_results['y_real'], test_results['y_pred']))\n",
    "print(metrics.classification_report(test_results['y_real'], test_results['y_pred']))"
   ]
  },
  {
   "cell_type": "markdown",
   "id": "a1c5dd59-1c4a-4ce2-8e0f-2ec71372436b",
   "metadata": {},
   "source": [
    "### Observing feature importance"
   ]
  },
  {
   "cell_type": "code",
   "execution_count": null,
   "id": "ab6942bc-d8d1-4da9-aa31-90f0b7e0b706",
   "metadata": {},
   "outputs": [],
   "source": [
    "Feature_imp = pd.DataFrame(\n",
    "    {'Column': X_train_fe.columns,\n",
    "     'Importance': dt.steps[1][1].feature_importances_\n",
    "    }).sort_values('Importance',ascending=False)\n",
    "Feature_imp.head()"
   ]
  },
  {
   "cell_type": "markdown",
   "id": "b35e83cd-2911-4a86-9888-309188f90671",
   "metadata": {},
   "source": [
    "# 6. Insights from Model 🤯\n",
    "\n",
    "- The gradient boosting model produces a high accuracy and recall score on training.\n",
    "- The recall of the testing set largely drops in the desired class from training to test (0.82 to 0.65).\n",
    "- The model is massively overfitting.\n",
    "- The contract type is by far the most important feature in splitting the churners and remaining customers.\n",
    "\n",
    "**Areas to explore in the future**\n",
    "\n",
    "- Observing different selections of features.\n",
    "- Finding a method to reduce the overfitting of the model, potentially further hyperparameter tuning."
   ]
  },
  {
   "cell_type": "code",
   "execution_count": null,
   "id": "5944ddae-383b-4131-87fe-0bd58c252f07",
   "metadata": {},
   "outputs": [],
   "source": []
  }
 ],
 "metadata": {
  "colab": {
   "provenance": []
  },
  "kernelspec": {
   "display_name": "Python [conda env:base] *",
   "language": "python",
   "name": "conda-base-py"
  },
  "language_info": {
   "codemirror_mode": {
    "name": "ipython",
    "version": 3
   },
   "file_extension": ".py",
   "mimetype": "text/x-python",
   "name": "python",
   "nbconvert_exporter": "python",
   "pygments_lexer": "ipython3",
   "version": "3.12.7"
  }
 },
 "nbformat": 4,
 "nbformat_minor": 5
}
