{
 "cells": [
  {
   "cell_type": "markdown",
   "id": "c1704a00-950e-4853-8aca-bd57c41c0e9d",
   "metadata": {},
   "source": [
    "<p style=\"text-align:center;\">\n",
    "<img src=https://noodle.digitalfutures.com/studentuploads/Data_Cygnets_logo.png width = 150px, height=150px/\n",
    "     style=\"float: center; \" />\n",
    "</p>"
   ]
  },
  {
   "cell_type": "markdown",
   "id": "bd3a965f-999c-492b-b88e-a068afc453b3",
   "metadata": {},
   "source": [
    "# Neural Networks 🧠 on Swan Teleco\n",
    "Trying Neural Network algorithms-Results were worse than a logistic regression model.\n",
    "### by Data Cygnets\n",
    "🦢 Jamie M\n",
    "\n",
    "🦢 Muqadas\n",
    "\n",
    "🦢 Sennan\n",
    "\n",
    "🦢 Maarja"
   ]
  },
  {
   "cell_type": "markdown",
   "id": "cbf5bab3-42d0-4788-b0f1-384267543426",
   "metadata": {
    "jp-MarkdownHeadingCollapsed": true
   },
   "source": [
    "## 1. Python Essentials 📁\n",
    "\n",
    "**Note, some packages are outside of the typical python library**"
   ]
  },
  {
   "cell_type": "code",
   "execution_count": null,
   "id": "66527984-ab09-4a71-9d7a-8bd066f23a54",
   "metadata": {},
   "outputs": [],
   "source": [
    "#Basic Python packages\n",
    "from time import time\n",
    "import warnings\n",
    "warnings.filterwarnings('ignore')\n",
    "\n",
    "\n",
    "#Numerical information\n",
    "import numpy as np\n",
    "\n",
    "#General Data use\n",
    "import pandas as pd\n",
    "from collections import Counter\n",
    "\n",
    "#Data Visualisation\n",
    "import seaborn as sns\n",
    "import matplotlib.pyplot as plt\n",
    "\n",
    "##Predictive Modelling##\n",
    "#Metrics\n",
    "from sklearn import metrics\n",
    "from sklearn.metrics import (confusion_matrix, accuracy_score)\n",
    "\n",
    "#Model\n",
    "from sklearn.pipeline import Pipeline\n",
    "from sklearn.tree import DecisionTreeClassifier\n",
    "from sklearn.neural_network import MLPClassifier\n",
    "\n",
    "#HyperParameters\n",
    "from sklearn.model_selection import GridSearchCV, StratifiedKFold, train_test_split\n",
    "\n",
    "from sklearn.preprocessing import MinMaxScaler\n",
    "\n",
    "\n",
    "#Modelling Visuals\n",
    "from sklearn import tree\n",
    "\n",
    "\n",
    "#######External packages########\n",
    "#Smarter Decision Tree Visualisation\n",
    "#Please run this if the package is not currently installed in the environment:\n",
    "#!pip install supertree -U\n",
    "from supertree import SuperTree\n",
    "\n",
    "#Class balancing with SMOTE(Synthetic Minority Over-sampling Technique-https://machinelearningmastery.com/smote-oversampling-for-imbalanced-classification/)\n",
    "#https://medium.com/data-science/the-right-way-of-using-smote-with-cross-validation-92a8d09d00c7#:~:text=We%20first%20split%20the%20data,cross%2Dvalidation%20and%20test%20scores.\n",
    "#Please run this if the package is not currently installed in the environment:\n",
    "#!pip install imbalanced-learn -U\n",
    "import imblearn\n",
    "from imblearn.pipeline import Pipeline as imbpipeline\n",
    "from imblearn.over_sampling import SMOTE"
   ]
  },
  {
   "cell_type": "code",
   "execution_count": null,
   "id": "c5e2845b-1836-4906-8939-e87365b74b57",
   "metadata": {},
   "outputs": [],
   "source": [
    "df = pd.read_excel('1 - Project Data.xlsx')"
   ]
  },
  {
   "cell_type": "markdown",
   "id": "df51c6bd-e072-48fb-9c87-2ee048ec83c9",
   "metadata": {
    "jp-MarkdownHeadingCollapsed": true
   },
   "source": [
    "## 2. Data Cleaning and Splitting 📊"
   ]
  },
  {
   "cell_type": "markdown",
   "id": "697bc7a2-d93d-45a4-b71e-b165f9c83b53",
   "metadata": {},
   "source": [
    "### Outlier removal"
   ]
  },
  {
   "cell_type": "code",
   "execution_count": null,
   "id": "56455c38-53d8-4206-92e4-53937c077aa0",
   "metadata": {},
   "outputs": [],
   "source": [
    "df_tenured = df[df['Tenure Months']!=0]"
   ]
  },
  {
   "cell_type": "markdown",
   "id": "069a99e0-0dfa-4bb1-be6b-3e5487dc8801",
   "metadata": {},
   "source": [
    "### Data Splitting"
   ]
  },
  {
   "cell_type": "code",
   "execution_count": null,
   "id": "50052881-d0f5-4eb4-87bc-a5923c1a2ec2",
   "metadata": {},
   "outputs": [],
   "source": [
    "train, test = train_test_split(df_tenured, random_state = 60, stratify = df_tenured['Churn Label'], test_size = 0.2)"
   ]
  },
  {
   "cell_type": "markdown",
   "id": "f17f4a93-0ad5-43ca-b255-65cca9d90ff4",
   "metadata": {
    "jp-MarkdownHeadingCollapsed": true
   },
   "source": [
    "## 3. Feature Engineering🛠️"
   ]
  },
  {
   "cell_type": "markdown",
   "id": "922ffa44-e993-4e1b-a88e-6909e38aaaf1",
   "metadata": {},
   "source": [
    "**Features to deal with**\n",
    " - CustomerID; Unique Value, only needed for the use of calling the customer. **DROP**\n",
    " - Count; Integer Value of 1, only checking that they were/are a customer. **DROP**\n",
    " - Country; United States, all within the same country. **DROP**\n",
    " - State; California, all within the same state. **DROP**\n",
    " - City; Could be useful, does seem to be a higher Churn average is larger cities.\n",
    " - Zip Code; Provides the area, more information than the city.\n",
    "\n",
    " - Lat Long; Exact location of customer (data risk) **DROP**\n",
    " - Latitude; Exact location of customer (data risk) **DROP**\n",
    " - Longitude; Exact location of customer (data risk) **DROP**\n",
    " - Gender; M/F, Need to change to 0/1\n",
    " - Senior Citizen; Y/N, Need to change to 0/1\n",
    " - Partner; Y/N, Need to change to 0/1\n",
    " - Dependents; Y/N, Need to change to 0/1\n",
    " - Tenure Months; Length of Tenure for a customer. Do we need it >n months?\n",
    " - Phone Service; Y/N, Need to change to 0/1\n",
    " - Multiple Lines; Y/N/No Phone Service, Need to change to 0/1 **Could be changed**\n",
    " - Internet Service; DSL/Fiber Optic/No. Need to convert to categorical values\n",
    " - Online Security; Y/N/No internet service, Need to change to 0/1 **Could be changed**\n",
    " - Online Backup; Y/N/No internet service, Need to change to 0/1 **Could be changed**\n",
    " - Device Protection; Y/N/No internet service, Need to change to 0/1 **Could be changed**\n",
    " - Tech Support; Y/N/No internet service, Need to change to 0/1 **Could be changed**\n",
    " - Streaming TV; Y/N/No internet service, Need to change to 0/1 **Could be changed**\n",
    " - Streaming Movies; Y/N/No internet service, Need to change to 0/1 **Could be changed**\n",
    " - Contract; M2M/1yr/2yr. Need to convert to categorical values\n",
    " - Paperless Billing; Y/N, Need to change to 0/1\n",
    " - Payment Method; Mailed check/Electronic check/Bank transfer (automatic)/Credit card (automatic). Need to convert to categorical values\n",
    " - Monthly Charges; Numerical Values\n",
    " - Total Charges; Numerical Values\n",
    "\n",
    "**Target(s)**\n",
    " - Churn Label; Y/N\n",
    " - Churn Value; 1/0\n",
    "\n",
    "\n",
    " - Churn Reason; A variety of reasons. Make a model for looking at the most important features for each reason?"
   ]
  },
  {
   "cell_type": "code",
   "execution_count": null,
   "id": "c843d68a-7ad9-446f-b3c3-bc8bbf99c40c",
   "metadata": {},
   "outputs": [],
   "source": [
    "Y_N_cols = ['Senior Citizen', 'Partner', 'Dependents', 'Phone Service', 'Multiple Lines', 'Internet Service',\n",
    "       'Online Security', 'Online Backup', 'Device Protection', 'Tech Support',\n",
    "       'Streaming TV', 'Streaming Movies', 'Paperless Billing']\n",
    "categorical_cols = ['City','Contract','Payment Method']\n",
    "def str_to_int_boolean(x):\n",
    "    if x=='Yes':\n",
    "        return 1\n",
    "    else:\n",
    "        return 0\n",
    "def service_count(row):\n",
    "    return (~row.str.contains('No')).sum()\n",
    "\n",
    "\n",
    "def feature_eng(df):\n",
    "    \n",
    "    \n",
    "    #Removal of Columns\n",
    "    features = list(df.columns)\n",
    "    #Dropping unnecessary columns#\n",
    "    features.remove('CustomerID')\n",
    "    features.remove('Count')\n",
    "    features.remove('Country')\n",
    "    features.remove('State')\n",
    "    features.remove('Lat Long')\n",
    "    features.remove('Latitude')\n",
    "    features.remove('Longitude')\n",
    "    features.remove('Churn Reason')\n",
    "\n",
    "    #Duplication\n",
    "    features.remove('Churn Value')\n",
    "    \n",
    "    df_copy = df[features].copy()\n",
    "    df_copy.index = df.CustomerID\n",
    "    ##Cleaning of Data##\n",
    "    df_copy.replace('No internet service', 'No', inplace=True)\n",
    "    df_copy.replace('No phone service', 'No', inplace=True)\n",
    "    df_copy['Total Charges'] = df_copy['Total Charges'].replace(' ', 0)\n",
    "    df_copy['Total Charges'] = df_copy['Total Charges'].astype(float)\n",
    "    \n",
    "    \n",
    "    cols = ['Phone Service','Multiple Lines', 'Internet Service', 'Online Security',\n",
    "       'Online Backup', 'Device Protection', 'Tech Support', 'Streaming TV',\n",
    "       'Streaming Movies']\n",
    "\n",
    "    #Counting the number of services\n",
    "    df_copy['service_count'] = df_copy[cols].apply(service_count, axis=1)\n",
    "\n",
    "    ##Changing from str to integer booleans##\n",
    "    for i in Y_N_cols:\n",
    "        df_copy[i] = df_copy[i].apply(str_to_int_boolean)\n",
    "\n",
    "    df_copy['Gender'] = [1 if val == 'Male' else 0 for val in df_copy['Gender']]\n",
    "\n",
    "    ##Changing categorical into numerical\n",
    "\n",
    "    for i in categorical_cols:\n",
    "        df_copy[i] = pd.factorize(df_copy[i])[0]\n",
    "\n",
    "    ##Space for further feature Engineering##\n",
    "    \n",
    "    \n",
    "    \n",
    "    \n",
    "    y = df_copy['Churn Label'].copy()\n",
    "    X = df_copy.drop(columns = ['Churn Label']).copy()\n",
    "\n",
    "    \n",
    "    return X,y"
   ]
  },
  {
   "cell_type": "code",
   "execution_count": null,
   "id": "0593bf1b-43e2-4e67-b81f-55cbfc54ed6b",
   "metadata": {},
   "outputs": [],
   "source": [
    "X_train_fe, y_train_fe = feature_eng(train)"
   ]
  },
  {
   "cell_type": "code",
   "execution_count": null,
   "id": "3fdae538-53e1-47fc-bcfe-f72a8a325940",
   "metadata": {},
   "outputs": [],
   "source": [
    "X_train_fe.head()"
   ]
  },
  {
   "cell_type": "markdown",
   "id": "c5a0c319-b51a-4c61-a581-fd938d08f2cb",
   "metadata": {
    "jp-MarkdownHeadingCollapsed": true
   },
   "source": [
    "## 4. Model Building and Training🏗️"
   ]
  },
  {
   "cell_type": "markdown",
   "id": "e6d7c124-5fde-4a8d-8a29-67716d816a5d",
   "metadata": {},
   "source": [
    "**SMOTE has improved the recall of the model by ~16%, sacrifising the accuracy by 1-2%**\n",
    "\n",
    "- MinMaxScaler has been used as neural networks require all values in the range 0-1\n",
    "\n",
    "**Hyperparameter selections**\n",
    "- Model alpha: The learning rate of the neural network\n",
    "- Model hidden layer sizes: The size of each layer that the model trains the data on"
   ]
  },
  {
   "cell_type": "code",
   "execution_count": null,
   "id": "30f0fc5c-772e-446e-9c99-b3589c3904d7",
   "metadata": {},
   "outputs": [],
   "source": [
    "pipeline = imbpipeline(steps = [['smote', SMOTE(random_state=60)],\n",
    "                                        ['scaler', MinMaxScaler(feature_range=(-1, 1))],\n",
    "                                        ['classifier', MLPClassifier(solver='adam', alpha=1e-5,\n",
    "                                                hidden_layer_sizes=(5, 2), random_state=60, max_iter=500)]])\n",
    "\n",
    "stratified_kfold = StratifiedKFold(n_splits=5,\n",
    "                                       shuffle=True,\n",
    "                                       random_state=60)\n",
    "    \n",
    "param_grid = {'classifier__alpha':[1e-5,1e-6,5e-6], 'classifier__hidden_layer_sizes':[(5,),(10,),(10,5),(25,)]}\n",
    "grid_search = GridSearchCV(estimator=pipeline,\n",
    "                            param_grid=param_grid,\n",
    "                            scoring='accuracy',\n",
    "                            cv=stratified_kfold,\n",
    "                            n_jobs=-1)\n",
    "grid_search.fit(X_train_fe, y_train_fe)\n",
    "\n"
   ]
  },
  {
   "cell_type": "code",
   "execution_count": null,
   "id": "ffc54167-1265-47ec-b48a-fa9aa08a1ef6",
   "metadata": {},
   "outputs": [],
   "source": [
    "dt = grid_search.best_estimator_\n",
    "dt.fit(X_train_fe, y_train_fe)"
   ]
  },
  {
   "cell_type": "markdown",
   "id": "77b41b92-91f1-4690-b9ae-9207aa235b6b",
   "metadata": {
    "jp-MarkdownHeadingCollapsed": true
   },
   "source": [
    "## 5. Model Prediction using the best hyperparameters 🔮"
   ]
  },
  {
   "cell_type": "code",
   "execution_count": null,
   "id": "d57916f4-325b-4f51-adb9-e8b3122b97cf",
   "metadata": {},
   "outputs": [],
   "source": [
    "X_test_fe, y_test_fe = feature_eng(test)"
   ]
  },
  {
   "cell_type": "code",
   "execution_count": null,
   "id": "4b1c2a90-a4e2-4a26-8cbf-dbd02e3d2720",
   "metadata": {},
   "outputs": [],
   "source": [
    "print(f'Score on training set: {dt.score(X_train_fe, y_train_fe)}')\n",
    "print(f'Score on testing set: {dt.score(X_test_fe, y_test_fe)}')"
   ]
  },
  {
   "cell_type": "code",
   "execution_count": null,
   "id": "833ecd77-8b04-4661-985c-6061296e6290",
   "metadata": {},
   "outputs": [],
   "source": [
    "train_results = X_train_fe.copy()\n",
    "train_results['y_pred'] = dt.predict(X_train_fe)\n",
    "train_results['y_real'] = y_train_fe\n",
    "train_results['y_prob'] = dt.predict_proba(X_train_fe)[:,1]"
   ]
  },
  {
   "cell_type": "code",
   "execution_count": null,
   "id": "1f163f97-5cb4-4d4b-a932-047060ee9829",
   "metadata": {},
   "outputs": [],
   "source": [
    "test_results = X_test_fe.copy()\n",
    "test_results['y_pred'] = dt.predict(X_test_fe)\n",
    "test_results['y_real'] = y_test_fe\n",
    "test_results['y_prob'] = dt.predict_proba(X_test_fe)[:,1]"
   ]
  },
  {
   "cell_type": "markdown",
   "id": "c21338c3-4656-4693-ad0f-409449231d33",
   "metadata": {},
   "source": [
    "### Results on the Training Set\n",
    "\n",
    "- Accuracy-81%\n",
    "- Recall on desired class (Yes)-0.68"
   ]
  },
  {
   "cell_type": "code",
   "execution_count": null,
   "id": "f1fc549c-f188-4ec2-9c83-5f00e29d311b",
   "metadata": {},
   "outputs": [],
   "source": [
    "print(metrics.confusion_matrix(train_results['y_real'], train_results['y_pred']))\n",
    "print(metrics.classification_report(train_results['y_real'], train_results['y_pred']))"
   ]
  },
  {
   "cell_type": "markdown",
   "id": "1f212a19-c578-49f5-969a-7cd3f8facc69",
   "metadata": {},
   "source": [
    "### Results on the Testing Set\n",
    "\n",
    "- Accuracy-78%\n",
    "- Recall on desired class (Yes)-0.58\n",
    "\n",
    "With this being low, it is often disregarding the churners. This is the avenue we want to maximise."
   ]
  },
  {
   "cell_type": "code",
   "execution_count": null,
   "id": "840a1fb9-5436-477a-ae80-687ffccb2e43",
   "metadata": {},
   "outputs": [],
   "source": [
    "print(metrics.confusion_matrix(test_results['y_real'], test_results['y_pred']))\n",
    "print(metrics.classification_report(test_results['y_real'], test_results['y_pred']))"
   ]
  },
  {
   "cell_type": "markdown",
   "id": "20bc2527-9de5-4c9a-a3b3-c11950d9eba5",
   "metadata": {
    "jp-MarkdownHeadingCollapsed": true
   },
   "source": [
    "# 6. Insights from Model 🤯\n",
    "\n",
    "- The neural network model does not produce a high accuracy no the training nor test set.\n",
    "- The recall of the testing set largely drops in the desired class.\n",
    "- The model is slightly overfitting.\n",
    "\n",
    "**Areas to explore in the future**\n",
    "\n",
    "- Observing different selections of features.\n",
    "- Creating a deeper model to further understand the data."
   ]
  },
  {
   "cell_type": "code",
   "execution_count": null,
   "id": "bf20e11c-392a-47c4-af08-847ce4fb2654",
   "metadata": {},
   "outputs": [],
   "source": []
  }
 ],
 "metadata": {
  "kernelspec": {
   "display_name": "Python [conda env:base] *",
   "language": "python",
   "name": "conda-base-py"
  },
  "language_info": {
   "codemirror_mode": {
    "name": "ipython",
    "version": 3
   },
   "file_extension": ".py",
   "mimetype": "text/x-python",
   "name": "python",
   "nbconvert_exporter": "python",
   "pygments_lexer": "ipython3",
   "version": "3.12.7"
  }
 },
 "nbformat": 4,
 "nbformat_minor": 5
}
